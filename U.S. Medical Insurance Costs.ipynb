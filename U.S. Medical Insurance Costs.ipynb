{
 "cells": [
  {
   "cell_type": "markdown",
   "metadata": {},
   "source": [
    "# U.S. Medical Insurance Costs"
   ]
  },
  {
   "cell_type": "markdown",
   "metadata": {},
   "source": [
    "## Look over Dataset"
   ]
  },
  {
   "cell_type": "markdown",
   "metadata": {},
   "source": [
    "## Scoping Project\n",
    "\n",
    "    1) Find out the average age of the patients in the dataset.\n",
    "    2) Analyze where a majority of the individuals are from.\n",
    "    3) Look at the different costs between smokers vs. non-smokers.\n",
    "    4) Figure out what the average age is for someone who has at least one child in this dataset.\n"
   ]
  },
  {
   "cell_type": "markdown",
   "metadata": {},
   "source": [
    "## Importing and Saving Dataset via Python"
   ]
  },
  {
   "cell_type": "code",
   "execution_count": 63,
   "metadata": {},
   "outputs": [],
   "source": [
    "import csv\n",
    "import numpy as np\n",
    "with open('insurance.csv', newline='') as csvfile:\n",
    "    insurance = csv.DictReader(csvfile)\n",
    "    #for row in insurance:\n",
    "        #print(row)\n",
    "    "
   ]
  },
  {
   "cell_type": "markdown",
   "metadata": {},
   "source": [
    "## Build out analysis functions to achieve scopes"
   ]
  },
  {
   "cell_type": "markdown",
   "metadata": {},
   "source": [
    "### 1) Find out the average age of the patients in the dataset"
   ]
  },
  {
   "cell_type": "code",
   "execution_count": 64,
   "metadata": {},
   "outputs": [
    {
     "name": "stdout",
     "output_type": "stream",
     "text": [
      "The Average age in the Insurance Dataset is: 39 years old\n"
     ]
    }
   ],
   "source": [
    "ages = []\n",
    "with open('insurance.csv', newline='') as csvfile:\n",
    "    insurance = csv.DictReader(csvfile)\n",
    "    for row in insurance:\n",
    "        ages.append(int(row['age']))\n",
    "        \n",
    "def Average(lst): \n",
    "    return sum(lst) / len(lst) \n",
    "\n",
    "print('The Average age in the Insurance Dataset is: {} years old'.format(round(Average(ages)),0))"
   ]
  },
  {
   "cell_type": "markdown",
   "metadata": {},
   "source": [
    "### 2) Analyze where a majority of the individuals are from."
   ]
  },
  {
   "cell_type": "code",
   "execution_count": 65,
   "metadata": {},
   "outputs": [
    {
     "name": "stdout",
     "output_type": "stream",
     "text": [
      "The majority of the individuals in the insurance Dataset are from: southeast\n"
     ]
    }
   ],
   "source": [
    "regions = []\n",
    "with open('insurance.csv', newline='') as csvfile:\n",
    "    insurance = csv.DictReader(csvfile)\n",
    "    for row in insurance:\n",
    "        regions.append(row['region'])\n",
    "regions_num_people = {'northeast':regions.count('northeast'), 'northwest':regions.count('northwest'), 'southeast':regions.count('southeast'), 'southwest':regions.count('southwest')}\n",
    "inverse = [(value, key) for key, value in regions_num_people.items()]\n",
    "print('The majority of the individuals in the insurance Dataset are from: {}'.format(max(inverse)[1]))"
   ]
  },
  {
   "cell_type": "markdown",
   "metadata": {},
   "source": [
    "### 3) Different costs between smokers vs. non-smokers."
   ]
  },
  {
   "cell_type": "code",
   "execution_count": 66,
   "metadata": {},
   "outputs": [
    {
     "name": "stdout",
     "output_type": "stream",
     "text": [
      "The Average charge of a smoker in the Insurance Dataset is: 32050\n",
      "The Average charge of a No-smoker in the Insurance Dataset is: 8434\n"
     ]
    }
   ],
   "source": [
    "smokers_charges = []\n",
    "non_smokers_charges = []\n",
    "with open('insurance.csv', newline='') as csvfile:\n",
    "    insurance = csv.DictReader(csvfile)\n",
    "    for row in insurance:\n",
    "        if row['smoker'] == 'yes':\n",
    "            smokers_charges.append(float(row['charges']))\n",
    "        elif row['smoker'] == 'no':\n",
    "            non_smokers_charges.append(float(row['charges']))\n",
    "print('The Average charge of a smoker in the Insurance Dataset is: {}'.format(round(Average(smokers_charges)),0))\n",
    "print('The Average charge of a No-smoker in the Insurance Dataset is: {}'.format(round(Average(non_smokers_charges)),0))"
   ]
  },
  {
   "cell_type": "markdown",
   "metadata": {},
   "source": [
    "### 4) Average age for someone who has at least one child in the dataset."
   ]
  },
  {
   "cell_type": "code",
   "execution_count": 67,
   "metadata": {},
   "outputs": [
    {
     "name": "stdout",
     "output_type": "stream",
     "text": [
      "The average age of someone who has at least 1 child is: 40\n"
     ]
    }
   ],
   "source": [
    "ages_at_leat_one_child = []\n",
    "with open('insurance.csv', newline='') as csvfile:\n",
    "    insurance = csv.DictReader(csvfile)\n",
    "    for row in insurance:\n",
    "        if int(row['children']) >= 1:\n",
    "            ages_at_leat_one_child.append(int(row['age']))\n",
    "print('The average age of someone who has at least 1 child is: {}'.format(round(Average(ages_at_leat_one_child))))"
   ]
  }
 ],
 "metadata": {
  "kernelspec": {
   "display_name": "Python 3",
   "language": "python",
   "name": "python3"
  },
  "language_info": {
   "codemirror_mode": {
    "name": "ipython",
    "version": 3
   },
   "file_extension": ".py",
   "mimetype": "text/x-python",
   "name": "python",
   "nbconvert_exporter": "python",
   "pygments_lexer": "ipython3",
   "version": "3.8.3"
  }
 },
 "nbformat": 4,
 "nbformat_minor": 4
}
